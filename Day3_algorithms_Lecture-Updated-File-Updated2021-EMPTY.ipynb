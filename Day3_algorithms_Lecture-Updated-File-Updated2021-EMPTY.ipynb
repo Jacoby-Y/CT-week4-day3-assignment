{
 "cells": [
  {
   "cell_type": "markdown",
   "metadata": {},
   "source": [
    "# Classic Algorithms"
   ]
  },
  {
   "cell_type": "markdown",
   "metadata": {},
   "source": [
    "## Tasks Today:\n",
    " \n",
    "1) <b>In-Place Algorithms</b> <br>\n",
    " &nbsp;&nbsp;&nbsp;&nbsp; a) Syntax <br>\n",
    " &nbsp;&nbsp;&nbsp;&nbsp; a) Out of Place Algorithm <br>\n",
    " &nbsp;&nbsp;&nbsp;&nbsp; b) In-Class Exercise #1 <br>\n",
    "2) <b>Two Pointers</b> <br>\n",
    "3) <b>Sorting Algorithms</b> <br>\n",
    "4) <b>Merge Sort</b> <br>\n",
    " &nbsp;&nbsp;&nbsp;&nbsp; a) Video on Algorithms <br>\n",
    " &nbsp;&nbsp;&nbsp;&nbsp; b) How it Works <br>\n",
    "5) <b>Exercises</b> <br>\n",
    " &nbsp;&nbsp;&nbsp;&nbsp; a) Exercise #1 - Reverse a List in Place Using an In-Place Algorithm <br>\n",
    " &nbsp;&nbsp;&nbsp;&nbsp; b) Exercise #2 - Find Distinct Words <br>\n",
    " &nbsp;&nbsp;&nbsp;&nbsp; c) Exercise #3 - Write a program to implement a Linear Search Algorithm. <br>"
   ]
  },
  {
   "cell_type": "markdown",
   "metadata": {},
   "source": [
    "## In-Place Algorithms"
   ]
  },
  {
   "cell_type": "markdown",
   "metadata": {},
   "source": [
    "#### Syntax"
   ]
  },
  {
   "cell_type": "code",
   "execution_count": 3,
   "metadata": {},
   "outputs": [
    {
     "name": "stdout",
     "output_type": "stream",
     "text": [
      "Before swap: [20, 4, 10]\n",
      "AFTER swap: [20, 10, 4]\n"
     ]
    }
   ],
   "source": []
  },
  {
   "cell_type": "markdown",
   "metadata": {},
   "source": [
    "#### Out of Place Algorithm"
   ]
  },
  {
   "cell_type": "code",
   "execution_count": 4,
   "metadata": {},
   "outputs": [
    {
     "name": "stdout",
     "output_type": "stream",
     "text": [
      "[4, 10, 20]\n",
      "Before ['a', 'b', 'c', 'd']\n",
      "After ['d', 'c', 'b', 'a']\n"
     ]
    }
   ],
   "source": [
    "\n"
   ]
  },
  {
   "cell_type": "markdown",
   "metadata": {},
   "source": [
    "#### In-Class Exercise #1 <br>\n",
    "<p>Write a function that takes in four arguments (list, index1, index2, index3), and swaps those three positions in the list passed in.</p>"
   ]
  },
  {
   "cell_type": "code",
   "execution_count": 5,
   "metadata": {},
   "outputs": [
    {
     "name": "stdout",
     "output_type": "stream",
     "text": [
      "[4, 8, 3, 4, 10, 2, 6]\n"
     ]
    }
   ],
   "source": []
  },
  {
   "cell_type": "markdown",
   "metadata": {},
   "source": [
    "## Two Pointers"
   ]
  },
  {
   "cell_type": "markdown",
   "metadata": {},
   "source": [
    "#### Syntax"
   ]
  },
  {
   "cell_type": "code",
   "execution_count": 6,
   "metadata": {},
   "outputs": [
    {
     "data": {
      "text/plain": [
       "[22, 11, 4, 8, 9, 12, 3, 2, 1]"
      ]
     },
     "execution_count": 6,
     "metadata": {},
     "output_type": "execute_result"
    }
   ],
   "source": []
  },
  {
   "cell_type": "markdown",
   "metadata": {},
   "source": [
    "#### Video of Algorithms <br>\n",
    "<p>Watch the video about algorithms.</p>\n",
    "\n",
    "https://www.youtube.com/watch?v=Q9HjeFD62Uk\n",
    "\n",
    "https://www.youtube.com/watch?v=kPRA0W1kECg\n",
    "\n",
    "https://www.youtube.com/watch?v=ZZuD6iUe3Pc"
   ]
  },
  {
   "cell_type": "markdown",
   "metadata": {},
   "source": [
    "# Sorting Algorithms"
   ]
  },
  {
   "cell_type": "markdown",
   "metadata": {},
   "source": [
    "#### Bubble Sort\n",
    "\n",
    "Worst Case: O(n^2) Time - O(1) Space"
   ]
  },
  {
   "cell_type": "code",
   "execution_count": 8,
   "metadata": {},
   "outputs": [
    {
     "name": "stdout",
     "output_type": "stream",
     "text": [
      "[5, 1, 4, 2, 9, 3, 8]\n",
      "[1, 2, 3, 4, 5, 8, 9]\n"
     ]
    }
   ],
   "source": [
    "unsorted = [5, 1, 4, 2, 9, 3, 8]\n",
    "\n",
    "def bubble1(l):\n",
    "    ind = 0\n",
    "    end = len(l)-1\n",
    "    swapped = False\n",
    "    while True:\n",
    "        if ind == end:\n",
    "            ind = 0\n",
    "            if not swapped:\n",
    "                break\n",
    "            swapped = False\n",
    "            continue\n",
    "        if l[ind+1] < l[ind]:\n",
    "            l[ind], l[ind+1] = l[ind+1], l[ind]\n",
    "            swapped = True\n",
    "        ind += 1\n",
    "    return l\n",
    "\n",
    "print(unsorted)\n",
    "print(bubble1(unsorted))\n",
    "        "
   ]
  },
  {
   "cell_type": "code",
   "execution_count": 11,
   "metadata": {},
   "outputs": [
    {
     "name": "stdout",
     "output_type": "stream",
     "text": [
      "[1, 2, 3, 4, 5, 8, 9]\n"
     ]
    }
   ],
   "source": [
    "def swap(i,j,arr):\n",
    "    arr[i], arr[j] = arr[j], arr[i]\n",
    "\n",
    "def bubble2(arr):\n",
    "    isSorted = False\n",
    "    while not isSorted:\n",
    "        isSorted = True\n",
    "        for num in range(len(arr)-1):\n",
    "            if arr[num] > arr[num+1]:\n",
    "                swap(num, num+1, arr)\n",
    "                isSorted = False\n",
    "    return arr\n",
    "\n",
    "print(bubble2([5, 1, 4, 2, 9, 3, 8]))"
   ]
  },
  {
   "cell_type": "markdown",
   "metadata": {},
   "source": [
    "##### Insertion Sort\n",
    "\n",
    "Worst Case: O(n^2) time - O(1)space"
   ]
  },
  {
   "cell_type": "code",
   "execution_count": 15,
   "metadata": {},
   "outputs": [
    {
     "name": "stdout",
     "output_type": "stream",
     "text": [
      "[1, 2, 3, 4, 5, 8, 9]\n"
     ]
    }
   ],
   "source": [
    "def swap(i,j,arr):\n",
    "    arr[i], arr[j] = arr[j], arr[i]\n",
    "\n",
    "def insert_sort(arr):\n",
    "    for j in range(1, len(arr)):\n",
    "        while j > 0 and arr[j] < arr[j-1]:\n",
    "            swap(j, j-1, arr)\n",
    "            j -= 1\n",
    "    return arr\n",
    "# \n",
    "print(insert_sort([5, 1, 4, 2, 9, 3, 8]))"
   ]
  },
  {
   "cell_type": "markdown",
   "metadata": {},
   "source": [
    "## Merge Sort"
   ]
  },
  {
   "cell_type": "markdown",
   "metadata": {},
   "source": [
    "#### How it Works"
   ]
  },
  {
   "cell_type": "code",
   "execution_count": 18,
   "metadata": {},
   "outputs": [
    {
     "name": "stdout",
     "output_type": "stream",
     "text": [
      "[20, 4, 18, 14, 4, 6, 20, 13, 2, 6]\n"
     ]
    },
    {
     "ename": "IndexError",
     "evalue": "list assignment index out of range",
     "output_type": "error",
     "traceback": [
      "\u001b[0;31m---------------------------------------------------------------------------\u001b[0m",
      "\u001b[0;31mIndexError\u001b[0m                                Traceback (most recent call last)",
      "Input \u001b[0;32mIn [18]\u001b[0m, in \u001b[0;36m<cell line: 43>\u001b[0;34m()\u001b[0m\n\u001b[1;32m     39\u001b[0m             a \u001b[38;5;241m+\u001b[39m\u001b[38;5;241m=\u001b[39m \u001b[38;5;241m1\u001b[39m\n\u001b[1;32m     41\u001b[0m         \u001b[38;5;28;01mreturn\u001b[39;00m arr\n\u001b[0;32m---> 43\u001b[0m \u001b[38;5;28mprint\u001b[39m(\u001b[43mmerge_sort\u001b[49m\u001b[43m(\u001b[49m\u001b[43mnums\u001b[49m\u001b[43m)\u001b[49m)\n",
      "Input \u001b[0;32mIn [18]\u001b[0m, in \u001b[0;36mmerge_sort\u001b[0;34m(arr)\u001b[0m\n\u001b[1;32m     10\u001b[0m right \u001b[38;5;241m=\u001b[39m arr[mid:]\n\u001b[1;32m     12\u001b[0m \u001b[38;5;66;03m# recursively merge sort each half\u001b[39;00m\n\u001b[0;32m---> 13\u001b[0m \u001b[43mmerge_sort\u001b[49m\u001b[43m(\u001b[49m\u001b[43mleft\u001b[49m\u001b[43m)\u001b[49m\n\u001b[1;32m     14\u001b[0m merge_sort(right)\n\u001b[1;32m     16\u001b[0m \u001b[38;5;66;03m# index points of our list\u001b[39;00m\n",
      "Input \u001b[0;32mIn [18]\u001b[0m, in \u001b[0;36mmerge_sort\u001b[0;34m(arr)\u001b[0m\n\u001b[1;32m     23\u001b[0m \u001b[38;5;28;01mwhile\u001b[39;00m l \u001b[38;5;241m<\u001b[39m \u001b[38;5;28mlen\u001b[39m(left) \u001b[38;5;129;01mand\u001b[39;00m r \u001b[38;5;241m<\u001b[39m \u001b[38;5;28mlen\u001b[39m(right):\n\u001b[1;32m     24\u001b[0m     \u001b[38;5;28;01mif\u001b[39;00m left[l] \u001b[38;5;241m<\u001b[39m right[r]:\n\u001b[0;32m---> 25\u001b[0m         arr[a] \u001b[38;5;241m=\u001b[39m left[l]\n\u001b[1;32m     26\u001b[0m     \u001b[38;5;28;01melse\u001b[39;00m:\n\u001b[1;32m     27\u001b[0m         arr[a] \u001b[38;5;241m=\u001b[39m right[r]\n",
      "\u001b[0;31mIndexError\u001b[0m: list assignment index out of range"
     ]
    }
   ],
   "source": [
    "from random import randint\n",
    "nums = [randint(0,20) for i in range(10)]\n",
    "print(nums)\n",
    "\n",
    "def merge_sort(arr):\n",
    "    # divide into equal parts\n",
    "    if len(arr) > 1:\n",
    "        mid = len(arr) // 2\n",
    "        left = arr[:mid]\n",
    "        right = arr[mid:]\n",
    "\n",
    "        # recursively merge sort each half\n",
    "        merge_sort(left)\n",
    "        merge_sort(right)\n",
    "\n",
    "        # index points of our list\n",
    "        l = 0 # pointer for left half\n",
    "        r = 0 # pointer for right half\n",
    "        a = 0 # pointer for actual array\n",
    "\n",
    "        # Compare the left half with right half\n",
    "\n",
    "        while l < len(left) and r < len(right):\n",
    "            if left[l] < right[r]:\n",
    "                arr[a] = left[l]\n",
    "            else:\n",
    "                arr[a] = right[r]\n",
    "                r += 1\n",
    "            a += 1\n",
    "\n",
    "        # place items in correct position\n",
    "        while l < len(left):\n",
    "            arr[a] = left[l]\n",
    "            l += 1\n",
    "            a += 1\n",
    "        while r < len(right):\n",
    "            arr[a] = left[r]\n",
    "            r += 1\n",
    "            a += 1\n",
    "\n",
    "        return arr\n",
    "\n",
    "print(merge_sort(nums))"
   ]
  },
  {
   "cell_type": "markdown",
   "metadata": {},
   "source": [
    "## Binary Search Trees\n",
    "\n",
    "Linked list is to List as BST is to Dictionary"
   ]
  },
  {
   "cell_type": "markdown",
   "metadata": {},
   "source": [
    "## In Class Exercise\n",
    "\n",
    "Invert a Binary Tree"
   ]
  },
  {
   "cell_type": "code",
   "execution_count": 2,
   "metadata": {},
   "outputs": [
    {
     "name": "stdout",
     "output_type": "stream",
     "text": [
      "==========\n",
      "12\n",
      "23\n",
      "33\n",
      "39\n",
      "40\n",
      "43\n",
      "56\n",
      "756\n",
      "==========\n",
      "756\n",
      "56\n",
      "43\n",
      "40\n",
      "39\n",
      "33\n",
      "23\n",
      "12\n"
     ]
    }
   ],
   "source": [
    "class BST():\n",
    "\tdef __init__(self,value):\n",
    "\t\tself.value = value # Current Value\n",
    "\t\tself.left = None\n",
    "\t\tself.right = None\n",
    "\tdef insert(self, value):\n",
    "\t\tif value < self.value:\n",
    "\t\t\tif self.left is None:\n",
    "\t\t\t\tself.left = BST(value)\n",
    "\t\t\telse:\n",
    "\t\t\t\tself.left.insert(value)\n",
    "\t\telse:\n",
    "\t\t\tif self.right is None:\n",
    "\t\t\t\tself.right = BST(value)\n",
    "\t\t\telse:\n",
    "\t\t\t\tself.right.insert(value)\n",
    "\t\treturn self\n",
    "\tdef contains(self,value):\n",
    "\t\t\"\"\"\n",
    "\t\t\tThis method accepts an int for its value\n",
    "\t\t\tThe value parameter is what we are looking for inside of the BST structure\n",
    "\t\t\"\"\"\n",
    "\t\tif value < self.value: # if passed value is less than current value\n",
    "\t\t\tif self.left is None:\n",
    "\t\t\t\treturn False\n",
    "\t\t\telse:\n",
    "\t\t\t\treturn self.left.contains(value)\n",
    "\t\telif value > self.value:\n",
    "\t\t\tif self.right is None:\n",
    "\t\t\t\treturn False\n",
    "\t\t\telse:\n",
    "\t\t\t\treturn self.right.contains(value)\n",
    "\t\telse:\n",
    "\t\t\treturn True\n",
    "\tdef get_min_value(self):\n",
    "\t\tif self.left is None:\n",
    "\t\t\treturn self.value\n",
    "\t\telse:\n",
    "\t\t\treturn self.left.get_min_value()\n",
    "\tdef get_max_value(self):\n",
    "\t\tif self.right is None:\n",
    "\t\t\treturn self.value\n",
    "\t\telse:\n",
    "\t\t\treturn self.right.get_max_value()\n",
    "\tdef print_all(self):\n",
    "\t\tif self.left != None:\n",
    "\t\t\tself.left.print_all()\n",
    "\t\tprint(self.value)\n",
    "\t\tif self.right != None:\n",
    "\t\t\tself.right.print_all()\n",
    "\tdef invert(self):\n",
    "\t\tself.left, self.right = (self.right, self.left)\n",
    "\t\tif self.left != None:\n",
    "\t\t\tself.left.invert()\n",
    "\t\tif self.right != None:\n",
    "\t\t\tself.right.invert()\n",
    "\n",
    "bst_example = BST(39)\n",
    "bst_example.insert(40)\n",
    "bst_example.insert(43)\n",
    "bst_example.insert(56)\n",
    "bst_example.insert(33)\n",
    "bst_example.insert(23)\n",
    "bst_example.insert(12)\n",
    "bst_example.insert(756)\n",
    "# print(bst_example.get_max_value())\n",
    "# print(bst_example.contains(40))\n",
    "print('='*10)\n",
    "bst_example.print_all()\n",
    "print('='*10)\n",
    "bst_example.invert()\n",
    "bst_example.print_all()"
   ]
  },
  {
   "cell_type": "markdown",
   "metadata": {},
   "source": [
    "# Exercises"
   ]
  },
  {
   "cell_type": "markdown",
   "metadata": {},
   "source": [
    "### Exercise #1 <br>\n",
    "<p>Reverse the list below in-place using an in-place algorithm.<br>For extra credit: Reverse the strings at the same time.</p>"
   ]
  },
  {
   "cell_type": "code",
   "execution_count": 24,
   "metadata": {},
   "outputs": [
    {
     "name": "stdout",
     "output_type": "stream",
     "text": [
      "['this', 'is', 'a', 'sentence', '.']\n",
      "['.', 'ecnetnes', 'a', 'si', 'siht']\n"
     ]
    }
   ],
   "source": [
    "words = ['this' , 'is', 'a', 'sentence', '.']\n",
    "\n",
    "def invert(array, invert_each=False):\n",
    "    left = 0\n",
    "    right = len(array) - 1\n",
    "    while left <= right:\n",
    "        if left == right and invert_each:\n",
    "            array[left] = \"\".join(invert(list(array[left])))\n",
    "            break\n",
    "        array[left], array[right] = array[right], array[left]\n",
    "        if invert_each:\n",
    "            array[left] = \"\".join(invert(list(array[left])))\n",
    "            array[right] = \"\".join(invert(list(array[right])))\n",
    "        left += 1\n",
    "        right -= 1\n",
    "    return array\n",
    "\n",
    "print(words)\n",
    "invert(words, True)\n",
    "print(words)\n"
   ]
  },
  {
   "cell_type": "markdown",
   "metadata": {},
   "source": [
    "### Exercise #2 <br>\n",
    "<p>Create a function that counts how many distinct words are in the string below, then outputs a dictionary with the words as the key and the value as the amount of times that word appears in the string.<br>Should output:<br>{'a': 5,<br>\n",
    " 'abstract': 1,<br>\n",
    " 'an': 3,<br>\n",
    " 'array': 2, ... etc...</p>"
   ]
  },
  {
   "cell_type": "code",
   "execution_count": 26,
   "metadata": {},
   "outputs": [
    {
     "name": "stdout",
     "output_type": "stream",
     "text": [
      "{'a': 5, 'abstract': 1, 'an': 3, 'array': 2, 'associative': 1, 'be': 1, 'buckets': 1, 'can': 2, 'compute': 1, 'computing': 1, 'data': 2, 'desired': 1, 'found': 1, 'from': 1, 'function': 1, 'hash': 4, 'implements': 1, 'in': 1, 'index': 1, 'into': 1, 'is': 1, 'keys': 1, 'map': 2, 'of': 1, 'or': 1, 'slots': 1, 'structure': 2, 'table': 2, 'that': 1, 'the': 1, 'to': 2, 'type': 1, 'uses': 1, 'value': 1, 'values': 1, 'which': 2}\n"
     ]
    }
   ],
   "source": [
    "a_text = 'In computing, a hash table hash map is a data structure which implements an associative array abstract data type, a structure that can map keys to values. A hash table uses a hash function to compute an index into an array of buckets or slots from which the desired value can be found'\n",
    "\n",
    "def word_freq(text):\n",
    "    freq = {}\n",
    "    for word in text.lower().split():\n",
    "        key = \"\".join([ch for ch in word if ch.isalpha()])\n",
    "        if key not in freq:\n",
    "            freq[key] = 1\n",
    "        else:\n",
    "            freq[key] += 1\n",
    "    return dict(sorted(freq.items(), key=lambda item: item[0]))\n",
    "\n",
    "print(word_freq(a_text))"
   ]
  },
  {
   "cell_type": "markdown",
   "metadata": {},
   "source": [
    "## Exercise #3\n",
    "\n",
    "Write a program to implement a Linear Search Algorithm. Also in a comment, write the Time Complexity of the following algorithm.\n",
    "\n",
    "#### Hint: Linear Searching will require searching a list for a given number. "
   ]
  },
  {
   "cell_type": "code",
   "execution_count": 29,
   "metadata": {},
   "outputs": [
    {
     "name": "stdout",
     "output_type": "stream",
     "text": [
      "0\n",
      "4\n",
      "-1\n",
      "5\n"
     ]
    }
   ],
   "source": [
    "nums_list = [10,23,45,70,11,15]\n",
    "target = 70\n",
    "\n",
    "# If number is not present return -1\n",
    "\n",
    "def get_index(array, target):\n",
    "    for index, item in enumerate(array):\n",
    "        if item == target:\n",
    "            return index\n",
    "    return -1\n",
    "\n",
    "print(get_index(nums_list, 10))\n",
    "print(get_index(nums_list, 11))\n",
    "print(get_index(nums_list, 12))\n",
    "print(get_index(nums_list, 15))\n"
   ]
  },
  {
   "cell_type": "code",
   "execution_count": null,
   "metadata": {},
   "outputs": [],
   "source": []
  }
 ],
 "metadata": {
  "kernelspec": {
   "display_name": "Python 3 (ipykernel)",
   "language": "python",
   "name": "python3"
  },
  "language_info": {
   "codemirror_mode": {
    "name": "ipython",
    "version": 3
   },
   "file_extension": ".py",
   "mimetype": "text/x-python",
   "name": "python",
   "nbconvert_exporter": "python",
   "pygments_lexer": "ipython3",
   "version": "3.9.12"
  }
 },
 "nbformat": 4,
 "nbformat_minor": 2
}
